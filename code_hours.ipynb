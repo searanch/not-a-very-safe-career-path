{
 "cells": [
  {
   "cell_type": "markdown",
   "id": "1300ee37",
   "metadata": {},
   "source": [
    "\"The first significant payout before any job offers was about three years \n",
    " after I started and after writing code for three or four thousand hours\n",
    " with no financial return. Not a very safe career path but it worked out\"\n",
    "\n",
    "Larry Jones \n",
    "2015"
   ]
  },
  {
   "cell_type": "code",
   "execution_count": 2,
   "id": "d05f4606",
   "metadata": {},
   "outputs": [],
   "source": [
    "#impost packages\n",
    "import Dates\n",
    "using Dates\n",
    "using DataFrames\n",
    "using CSV"
   ]
  },
  {
   "cell_type": "code",
   "execution_count": 3,
   "id": "86eac95b",
   "metadata": {},
   "outputs": [
    {
     "name": "stdout",
     "output_type": "stream",
     "text": [
      "I started tracking the number of hours I wrote code from 2020-09-01 to 2022-05-29.\n",
      "That is 635 days days, which is about 1.7 years!\n",
      "During that time peroid I wrote code for 796.0 hours!\n"
     ]
    }
   ],
   "source": [
    "function find_span()\n",
    "    start_date = Date(2020,9,1)\n",
    "    end_date = Date(2022, 5, 29)\n",
    "    span = end_date - start_date \n",
    "    \n",
    "    df = CSV.read(\"testfile.csv\", DataFrame)\n",
    "    my_dict = Dict(Pair.(df.date_peroid, df.hours))\n",
    "    tot_hours = sum(df.hours)\n",
    "    tot_hours = (round(tot_hours))\n",
    "    my_string = tot_hours\n",
    "    \n",
    "    println(\"I started tracking the number of hours I wrote code from $start_date to $end_date.\")\n",
    "    println(\"That is $span days, which is about 1.7 years!\")\n",
    "    println(\"During that time peroid I wrote code for $my_string hours!\")\n",
    "\n",
    "end\n",
    "\n",
    "find_span()"
   ]
  },
  {
   "cell_type": "code",
   "execution_count": null,
   "id": "762bc3ee",
   "metadata": {},
   "outputs": [],
   "source": []
  },
  {
   "cell_type": "code",
   "execution_count": 1,
   "id": "6c037ba1",
   "metadata": {},
   "outputs": [
    {
     "name": "stdout",
     "output_type": "stream",
     "text": [
      "Dict(\"06/03/2022\" => 2, \"06/14/2022\" => 2, \"06/13/2022\" => 1, \"06/02/2022\" => 2, \"06/01/2022\" => 1, \"06/11/2022\" => 2)\n"
     ]
    }
   ],
   "source": [
    "hours = Dict(\"06/01/2022\" => 1, \"06/02/2022\" => 2, \"06/03/2022\" =>2, \"06/11/2022\" =>2, \"06/13/2022\"=>1, \"06/14/2022\" => 2)\n",
    "println(hours)"
   ]
  },
  {
   "cell_type": "code",
   "execution_count": null,
   "id": "e5854606",
   "metadata": {},
   "outputs": [],
   "source": [
    "myphonebook = Dict(\"Liz\"=> \"510-575-5851\", \"Molly\"=>\"612-407-4476\", \"HH\" => \"858-805-1456\", \"OldHome\"=> \"801-467-3355\")"
   ]
  },
  {
   "cell_type": "code",
   "execution_count": 1,
   "id": "6c0b8e23",
   "metadata": {},
   "outputs": [
    {
     "data": {
      "text/plain": [
       "6.5"
      ]
     },
     "execution_count": 1,
     "metadata": {},
     "output_type": "execute_result"
    }
   ],
   "source": [
    "today = [1,1]\n",
    "\n",
    "pop!(today)\n",
    "# array for june 2022\n",
    "#june_2022 = [2,1]\n",
    "june_2022 = [2,2,2, .5]\n",
    "sum(june_2022)"
   ]
  },
  {
   "cell_type": "code",
   "execution_count": 67,
   "id": "5383e3bd",
   "metadata": {},
   "outputs": [
    {
     "data": {
      "text/plain": [
       "(0.5, 0.5)"
      ]
     },
     "execution_count": 67,
     "metadata": {},
     "output_type": "execute_result"
    }
   ],
   "source": [
    "today = (.5, .5)"
   ]
  },
  {
   "cell_type": "code",
   "execution_count": 69,
   "id": "635cfe4f",
   "metadata": {},
   "outputs": [
    {
     "data": {
      "text/plain": [
       "208"
      ]
     },
     "execution_count": 69,
     "metadata": {},
     "output_type": "execute_result"
    }
   ],
   "source": [
    "52 * 4"
   ]
  },
  {
   "cell_type": "code",
   "execution_count": null,
   "id": "49dacb4e",
   "metadata": {},
   "outputs": [],
   "source": [
    "pop!(today)\n",
    "pop!(today)\n",
    "today"
   ]
  },
  {
   "cell_type": "code",
   "execution_count": 66,
   "id": "ceae8ae4",
   "metadata": {},
   "outputs": [
    {
     "data": {
      "text/plain": [
       "1-element Vector{Int64}:\n",
       " 2"
      ]
     },
     "execution_count": 66,
     "metadata": {},
     "output_type": "execute_result"
    }
   ],
   "source": [
    "june_2022"
   ]
  },
  {
   "cell_type": "code",
   "execution_count": null,
   "id": "c3b80776",
   "metadata": {},
   "outputs": [],
   "source": [
    "scratchpad code"
   ]
  },
  {
   "cell_type": "code",
   "execution_count": 53,
   "id": "fbd37215",
   "metadata": {},
   "outputs": [
    {
     "name": "stderr",
     "output_type": "stream",
     "text": [
      "\u001b[32m\u001b[1m   Resolving\u001b[22m\u001b[39m package versions...\n",
      "\u001b[32m\u001b[1m  No Changes\u001b[22m\u001b[39m to `C:\\Users\\lizba\\.julia\\environments\\v1.7\\Project.toml`\n",
      "\u001b[32m\u001b[1m  No Changes\u001b[22m\u001b[39m to `C:\\Users\\lizba\\.julia\\environments\\v1.7\\Manifest.toml`\n"
     ]
    },
    {
     "data": {
      "text/plain": [
       "Plots.GRBackend()"
      ]
     },
     "execution_count": 53,
     "metadata": {},
     "output_type": "execute_result"
    }
   ],
   "source": [
    "using Pkg\n",
    "Pkg.add(\"Plots\")\n",
    "using Plots\n",
    "gr()"
   ]
  },
  {
   "cell_type": "code",
   "execution_count": 54,
   "id": "5e6eba7b",
   "metadata": {},
   "outputs": [
    {
     "data": {
      "image/svg+xml": "<?xml version=\"1.0\" encoding=\"utf-8\"?>\n<svg xmlns=\"http://www.w3.org/2000/svg\" xmlns:xlink=\"http://www.w3.org/1999/xlink\" width=\"600\" height=\"400\" viewBox=\"0 0 2400 1600\">\n<defs>\n  <clipPath id=\"clip490\">\n    <rect x=\"0\" y=\"0\" width=\"2400\" height=\"1600\"/>\n  </clipPath>\n</defs>\n<path clip-path=\"url(#clip490)\" d=\"\nM0 1600 L2400 1600 L2400 0 L0 0  Z\n  \" fill=\"#ffffff\" fill-rule=\"evenodd\" fill-opacity=\"1\"/>\n<defs>\n  <clipPath id=\"clip491\">\n    <rect x=\"480\" y=\"0\" width=\"1681\" height=\"1600\"/>\n  </clipPath>\n</defs>\n<path clip-path=\"url(#clip490)\" d=\"\nM141.853 1486.45 L2352.76 1486.45 L2352.76 47.2441 L141.853 47.2441  Z\n  \" fill=\"#ffffff\" fill-rule=\"evenodd\" fill-opacity=\"1\"/>\n<defs>\n  <clipPath id=\"clip492\">\n    <rect x=\"141\" y=\"47\" width=\"2212\" height=\"1440\"/>\n  </clipPath>\n</defs>\n<polyline clip-path=\"url(#clip492)\" style=\"stroke:#000000; stroke-linecap:butt; stroke-linejoin:round; stroke-width:2; stroke-opacity:0.1; fill:none\" points=\"\n  195.735,1486.45 195.735,47.2441 \n  \"/>\n<polyline clip-path=\"url(#clip492)\" style=\"stroke:#000000; stroke-linecap:butt; stroke-linejoin:round; stroke-width:2; stroke-opacity:0.1; fill:none\" points=\"\n  630.268,1486.45 630.268,47.2441 \n  \"/>\n<polyline clip-path=\"url(#clip492)\" style=\"stroke:#000000; stroke-linecap:butt; stroke-linejoin:round; stroke-width:2; stroke-opacity:0.1; fill:none\" points=\"\n  1064.8,1486.45 1064.8,47.2441 \n  \"/>\n<polyline clip-path=\"url(#clip492)\" style=\"stroke:#000000; stroke-linecap:butt; stroke-linejoin:round; stroke-width:2; stroke-opacity:0.1; fill:none\" points=\"\n  1499.33,1486.45 1499.33,47.2441 \n  \"/>\n<polyline clip-path=\"url(#clip492)\" style=\"stroke:#000000; stroke-linecap:butt; stroke-linejoin:round; stroke-width:2; stroke-opacity:0.1; fill:none\" points=\"\n  1933.87,1486.45 1933.87,47.2441 \n  \"/>\n<polyline clip-path=\"url(#clip490)\" style=\"stroke:#000000; stroke-linecap:butt; stroke-linejoin:round; stroke-width:4; stroke-opacity:1; fill:none\" points=\"\n  141.853,1486.45 2352.76,1486.45 \n  \"/>\n<polyline clip-path=\"url(#clip490)\" style=\"stroke:#000000; stroke-linecap:butt; stroke-linejoin:round; stroke-width:4; stroke-opacity:1; fill:none\" points=\"\n  195.735,1486.45 195.735,1467.55 \n  \"/>\n<polyline clip-path=\"url(#clip490)\" style=\"stroke:#000000; stroke-linecap:butt; stroke-linejoin:round; stroke-width:4; stroke-opacity:1; fill:none\" points=\"\n  630.268,1486.45 630.268,1467.55 \n  \"/>\n<polyline clip-path=\"url(#clip490)\" style=\"stroke:#000000; stroke-linecap:butt; stroke-linejoin:round; stroke-width:4; stroke-opacity:1; fill:none\" points=\"\n  1064.8,1486.45 1064.8,1467.55 \n  \"/>\n<polyline clip-path=\"url(#clip490)\" style=\"stroke:#000000; stroke-linecap:butt; stroke-linejoin:round; stroke-width:4; stroke-opacity:1; fill:none\" points=\"\n  1499.33,1486.45 1499.33,1467.55 \n  \"/>\n<polyline clip-path=\"url(#clip490)\" style=\"stroke:#000000; stroke-linecap:butt; stroke-linejoin:round; stroke-width:4; stroke-opacity:1; fill:none\" points=\"\n  1933.87,1486.45 1933.87,1467.55 \n  \"/>\n<path clip-path=\"url(#clip490)\" d=\"M195.735 1517.37 Q192.124 1517.37 190.295 1520.93 Q188.49 1524.47 188.49 1531.6 Q188.49 1538.71 190.295 1542.27 Q192.124 1545.82 195.735 1545.82 Q199.369 1545.82 201.175 1542.27 Q203.003 1538.71 203.003 1531.6 Q203.003 1524.47 201.175 1520.93 Q199.369 1517.37 195.735 1517.37 M195.735 1513.66 Q201.545 1513.66 204.601 1518.27 Q207.679 1522.85 207.679 1531.6 Q207.679 1540.33 204.601 1544.94 Q201.545 1549.52 195.735 1549.52 Q189.925 1549.52 186.846 1544.94 Q183.791 1540.33 183.791 1531.6 Q183.791 1522.85 186.846 1518.27 Q189.925 1513.66 195.735 1513.66 Z\" fill=\"#000000\" fill-rule=\"evenodd\" fill-opacity=\"1\" /><path clip-path=\"url(#clip490)\" d=\"M604.967 1514.29 L623.323 1514.29 L623.323 1518.22 L609.249 1518.22 L609.249 1526.7 Q610.268 1526.35 611.286 1526.19 Q612.305 1526 613.323 1526 Q619.11 1526 622.49 1529.17 Q625.87 1532.34 625.87 1537.76 Q625.87 1543.34 622.397 1546.44 Q618.925 1549.52 612.606 1549.52 Q610.43 1549.52 608.161 1549.15 Q605.916 1548.78 603.509 1548.04 L603.509 1543.34 Q605.592 1544.47 607.814 1545.03 Q610.036 1545.58 612.513 1545.58 Q616.518 1545.58 618.856 1543.48 Q621.194 1541.37 621.194 1537.76 Q621.194 1534.15 618.856 1532.04 Q616.518 1529.94 612.513 1529.94 Q610.638 1529.94 608.763 1530.35 Q606.911 1530.77 604.967 1531.65 L604.967 1514.29 Z\" fill=\"#000000\" fill-rule=\"evenodd\" fill-opacity=\"1\" /><path clip-path=\"url(#clip490)\" d=\"M645.083 1517.37 Q641.471 1517.37 639.643 1520.93 Q637.837 1524.47 637.837 1531.6 Q637.837 1538.71 639.643 1542.27 Q641.471 1545.82 645.083 1545.82 Q648.717 1545.82 650.522 1542.27 Q652.351 1538.71 652.351 1531.6 Q652.351 1524.47 650.522 1520.93 Q648.717 1517.37 645.083 1517.37 M645.083 1513.66 Q650.893 1513.66 653.948 1518.27 Q657.027 1522.85 657.027 1531.6 Q657.027 1540.33 653.948 1544.94 Q650.893 1549.52 645.083 1549.52 Q639.272 1549.52 636.194 1544.94 Q633.138 1540.33 633.138 1531.6 Q633.138 1522.85 636.194 1518.27 Q639.272 1513.66 645.083 1513.66 Z\" fill=\"#000000\" fill-rule=\"evenodd\" fill-opacity=\"1\" /><path clip-path=\"url(#clip490)\" d=\"M1024.41 1544.91 L1032.05 1544.91 L1032.05 1518.55 L1023.74 1520.21 L1023.74 1515.95 L1032 1514.29 L1036.68 1514.29 L1036.68 1544.91 L1044.31 1544.91 L1044.31 1548.85 L1024.41 1548.85 L1024.41 1544.91 Z\" fill=\"#000000\" fill-rule=\"evenodd\" fill-opacity=\"1\" /><path clip-path=\"url(#clip490)\" d=\"M1063.76 1517.37 Q1060.15 1517.37 1058.32 1520.93 Q1056.51 1524.47 1056.51 1531.6 Q1056.51 1538.71 1058.32 1542.27 Q1060.15 1545.82 1063.76 1545.82 Q1067.39 1545.82 1069.2 1542.27 Q1071.03 1538.71 1071.03 1531.6 Q1071.03 1524.47 1069.2 1520.93 Q1067.39 1517.37 1063.76 1517.37 M1063.76 1513.66 Q1069.57 1513.66 1072.62 1518.27 Q1075.7 1522.85 1075.7 1531.6 Q1075.7 1540.33 1072.62 1544.94 Q1069.57 1549.52 1063.76 1549.52 Q1057.95 1549.52 1054.87 1544.94 Q1051.81 1540.33 1051.81 1531.6 Q1051.81 1522.85 1054.87 1518.27 Q1057.95 1513.66 1063.76 1513.66 Z\" fill=\"#000000\" fill-rule=\"evenodd\" fill-opacity=\"1\" /><path clip-path=\"url(#clip490)\" d=\"M1093.92 1517.37 Q1090.31 1517.37 1088.48 1520.93 Q1086.68 1524.47 1086.68 1531.6 Q1086.68 1538.71 1088.48 1542.27 Q1090.31 1545.82 1093.92 1545.82 Q1097.56 1545.82 1099.36 1542.27 Q1101.19 1538.71 1101.19 1531.6 Q1101.19 1524.47 1099.36 1520.93 Q1097.56 1517.37 1093.92 1517.37 M1093.92 1513.66 Q1099.73 1513.66 1102.79 1518.27 Q1105.87 1522.85 1105.87 1531.6 Q1105.87 1540.33 1102.79 1544.94 Q1099.73 1549.52 1093.92 1549.52 Q1088.11 1549.52 1085.03 1544.94 Q1081.98 1540.33 1081.98 1531.6 Q1081.98 1522.85 1085.03 1518.27 Q1088.11 1513.66 1093.92 1513.66 Z\" fill=\"#000000\" fill-rule=\"evenodd\" fill-opacity=\"1\" /><path clip-path=\"url(#clip490)\" d=\"M1458.94 1544.91 L1466.58 1544.91 L1466.58 1518.55 L1458.27 1520.21 L1458.27 1515.95 L1466.53 1514.29 L1471.21 1514.29 L1471.21 1544.91 L1478.85 1544.91 L1478.85 1548.85 L1458.94 1548.85 L1458.94 1544.91 Z\" fill=\"#000000\" fill-rule=\"evenodd\" fill-opacity=\"1\" /><path clip-path=\"url(#clip490)\" d=\"M1488.34 1514.29 L1506.69 1514.29 L1506.69 1518.22 L1492.62 1518.22 L1492.62 1526.7 Q1493.64 1526.35 1494.66 1526.19 Q1495.68 1526 1496.69 1526 Q1502.48 1526 1505.86 1529.17 Q1509.24 1532.34 1509.24 1537.76 Q1509.24 1543.34 1505.77 1546.44 Q1502.3 1549.52 1495.98 1549.52 Q1493.8 1549.52 1491.53 1549.15 Q1489.29 1548.78 1486.88 1548.04 L1486.88 1543.34 Q1488.96 1544.47 1491.19 1545.03 Q1493.41 1545.58 1495.88 1545.58 Q1499.89 1545.58 1502.23 1543.48 Q1504.56 1541.37 1504.56 1537.76 Q1504.56 1534.15 1502.23 1532.04 Q1499.89 1529.94 1495.88 1529.94 Q1494.01 1529.94 1492.13 1530.35 Q1490.28 1530.77 1488.34 1531.65 L1488.34 1514.29 Z\" fill=\"#000000\" fill-rule=\"evenodd\" fill-opacity=\"1\" /><path clip-path=\"url(#clip490)\" d=\"M1528.45 1517.37 Q1524.84 1517.37 1523.01 1520.93 Q1521.21 1524.47 1521.21 1531.6 Q1521.21 1538.71 1523.01 1542.27 Q1524.84 1545.82 1528.45 1545.82 Q1532.09 1545.82 1533.89 1542.27 Q1535.72 1538.71 1535.72 1531.6 Q1535.72 1524.47 1533.89 1520.93 Q1532.09 1517.37 1528.45 1517.37 M1528.45 1513.66 Q1534.26 1513.66 1537.32 1518.27 Q1540.4 1522.85 1540.4 1531.6 Q1540.4 1540.33 1537.32 1544.94 Q1534.26 1549.52 1528.45 1549.52 Q1522.64 1549.52 1519.56 1544.94 Q1516.51 1540.33 1516.51 1531.6 Q1516.51 1522.85 1519.56 1518.27 Q1522.64 1513.66 1528.45 1513.66 Z\" fill=\"#000000\" fill-rule=\"evenodd\" fill-opacity=\"1\" /><path clip-path=\"url(#clip490)\" d=\"M1897.56 1544.91 L1913.88 1544.91 L1913.88 1548.85 L1891.93 1548.85 L1891.93 1544.91 Q1894.6 1542.16 1899.18 1537.53 Q1903.79 1532.88 1904.97 1531.53 Q1907.21 1529.01 1908.09 1527.27 Q1908.99 1525.51 1908.99 1523.82 Q1908.99 1521.07 1907.05 1519.33 Q1905.13 1517.6 1902.03 1517.6 Q1899.83 1517.6 1897.37 1518.36 Q1894.94 1519.13 1892.17 1520.68 L1892.17 1515.95 Q1894.99 1514.82 1897.44 1514.24 Q1899.9 1513.66 1901.93 1513.66 Q1907.3 1513.66 1910.5 1516.35 Q1913.69 1519.03 1913.69 1523.52 Q1913.69 1525.65 1912.88 1527.57 Q1912.1 1529.47 1909.99 1532.07 Q1909.41 1532.74 1906.31 1535.95 Q1903.21 1539.15 1897.56 1544.91 Z\" fill=\"#000000\" fill-rule=\"evenodd\" fill-opacity=\"1\" /><path clip-path=\"url(#clip490)\" d=\"M1933.69 1517.37 Q1930.08 1517.37 1928.25 1520.93 Q1926.45 1524.47 1926.45 1531.6 Q1926.45 1538.71 1928.25 1542.27 Q1930.08 1545.82 1933.69 1545.82 Q1937.33 1545.82 1939.13 1542.27 Q1940.96 1538.71 1940.96 1531.6 Q1940.96 1524.47 1939.13 1520.93 Q1937.33 1517.37 1933.69 1517.37 M1933.69 1513.66 Q1939.5 1513.66 1942.56 1518.27 Q1945.64 1522.85 1945.64 1531.6 Q1945.64 1540.33 1942.56 1544.94 Q1939.5 1549.52 1933.69 1549.52 Q1927.88 1549.52 1924.8 1544.94 Q1921.75 1540.33 1921.75 1531.6 Q1921.75 1522.85 1924.8 1518.27 Q1927.88 1513.66 1933.69 1513.66 Z\" fill=\"#000000\" fill-rule=\"evenodd\" fill-opacity=\"1\" /><path clip-path=\"url(#clip490)\" d=\"M1963.85 1517.37 Q1960.24 1517.37 1958.41 1520.93 Q1956.61 1524.47 1956.61 1531.6 Q1956.61 1538.71 1958.41 1542.27 Q1960.24 1545.82 1963.85 1545.82 Q1967.49 1545.82 1969.29 1542.27 Q1971.12 1538.71 1971.12 1531.6 Q1971.12 1524.47 1969.29 1520.93 Q1967.49 1517.37 1963.85 1517.37 M1963.85 1513.66 Q1969.66 1513.66 1972.72 1518.27 Q1975.8 1522.85 1975.8 1531.6 Q1975.8 1540.33 1972.72 1544.94 Q1969.66 1549.52 1963.85 1549.52 Q1958.04 1549.52 1954.97 1544.94 Q1951.91 1540.33 1951.91 1531.6 Q1951.91 1522.85 1954.97 1518.27 Q1958.04 1513.66 1963.85 1513.66 Z\" fill=\"#000000\" fill-rule=\"evenodd\" fill-opacity=\"1\" /><polyline clip-path=\"url(#clip492)\" style=\"stroke:#000000; stroke-linecap:butt; stroke-linejoin:round; stroke-width:2; stroke-opacity:0.1; fill:none\" points=\"\n  141.853,1445.72 2352.76,1445.72 \n  \"/>\n<polyline clip-path=\"url(#clip492)\" style=\"stroke:#000000; stroke-linecap:butt; stroke-linejoin:round; stroke-width:2; stroke-opacity:0.1; fill:none\" points=\"\n  141.853,1219.43 2352.76,1219.43 \n  \"/>\n<polyline clip-path=\"url(#clip492)\" style=\"stroke:#000000; stroke-linecap:butt; stroke-linejoin:round; stroke-width:2; stroke-opacity:0.1; fill:none\" points=\"\n  141.853,993.136 2352.76,993.136 \n  \"/>\n<polyline clip-path=\"url(#clip492)\" style=\"stroke:#000000; stroke-linecap:butt; stroke-linejoin:round; stroke-width:2; stroke-opacity:0.1; fill:none\" points=\"\n  141.853,766.846 2352.76,766.846 \n  \"/>\n<polyline clip-path=\"url(#clip492)\" style=\"stroke:#000000; stroke-linecap:butt; stroke-linejoin:round; stroke-width:2; stroke-opacity:0.1; fill:none\" points=\"\n  141.853,540.556 2352.76,540.556 \n  \"/>\n<polyline clip-path=\"url(#clip492)\" style=\"stroke:#000000; stroke-linecap:butt; stroke-linejoin:round; stroke-width:2; stroke-opacity:0.1; fill:none\" points=\"\n  141.853,314.266 2352.76,314.266 \n  \"/>\n<polyline clip-path=\"url(#clip492)\" style=\"stroke:#000000; stroke-linecap:butt; stroke-linejoin:round; stroke-width:2; stroke-opacity:0.1; fill:none\" points=\"\n  141.853,87.9763 2352.76,87.9763 \n  \"/>\n<polyline clip-path=\"url(#clip490)\" style=\"stroke:#000000; stroke-linecap:butt; stroke-linejoin:round; stroke-width:4; stroke-opacity:1; fill:none\" points=\"\n  141.853,1486.45 141.853,47.2441 \n  \"/>\n<polyline clip-path=\"url(#clip490)\" style=\"stroke:#000000; stroke-linecap:butt; stroke-linejoin:round; stroke-width:4; stroke-opacity:1; fill:none\" points=\"\n  141.853,1445.72 160.751,1445.72 \n  \"/>\n<polyline clip-path=\"url(#clip490)\" style=\"stroke:#000000; stroke-linecap:butt; stroke-linejoin:round; stroke-width:4; stroke-opacity:1; fill:none\" points=\"\n  141.853,1219.43 160.751,1219.43 \n  \"/>\n<polyline clip-path=\"url(#clip490)\" style=\"stroke:#000000; stroke-linecap:butt; stroke-linejoin:round; stroke-width:4; stroke-opacity:1; fill:none\" points=\"\n  141.853,993.136 160.751,993.136 \n  \"/>\n<polyline clip-path=\"url(#clip490)\" style=\"stroke:#000000; stroke-linecap:butt; stroke-linejoin:round; stroke-width:4; stroke-opacity:1; fill:none\" points=\"\n  141.853,766.846 160.751,766.846 \n  \"/>\n<polyline clip-path=\"url(#clip490)\" style=\"stroke:#000000; stroke-linecap:butt; stroke-linejoin:round; stroke-width:4; stroke-opacity:1; fill:none\" points=\"\n  141.853,540.556 160.751,540.556 \n  \"/>\n<polyline clip-path=\"url(#clip490)\" style=\"stroke:#000000; stroke-linecap:butt; stroke-linejoin:round; stroke-width:4; stroke-opacity:1; fill:none\" points=\"\n  141.853,314.266 160.751,314.266 \n  \"/>\n<polyline clip-path=\"url(#clip490)\" style=\"stroke:#000000; stroke-linecap:butt; stroke-linejoin:round; stroke-width:4; stroke-opacity:1; fill:none\" points=\"\n  141.853,87.9763 160.751,87.9763 \n  \"/>\n<path clip-path=\"url(#clip490)\" d=\"M93.9086 1431.51 Q90.2975 1431.51 88.4688 1435.08 Q86.6632 1438.62 86.6632 1445.75 Q86.6632 1452.86 88.4688 1456.42 Q90.2975 1459.96 93.9086 1459.96 Q97.5428 1459.96 99.3483 1456.42 Q101.177 1452.86 101.177 1445.75 Q101.177 1438.62 99.3483 1435.08 Q97.5428 1431.51 93.9086 1431.51 M93.9086 1427.81 Q99.7187 1427.81 102.774 1432.42 Q105.853 1437 105.853 1445.75 Q105.853 1454.48 102.774 1459.08 Q99.7187 1463.67 93.9086 1463.67 Q88.0984 1463.67 85.0197 1459.08 Q81.9642 1454.48 81.9642 1445.75 Q81.9642 1437 85.0197 1432.42 Q88.0984 1427.81 93.9086 1427.81 Z\" fill=\"#000000\" fill-rule=\"evenodd\" fill-opacity=\"1\" /><path clip-path=\"url(#clip490)\" d=\"M54.5569 1232.77 L62.1958 1232.77 L62.1958 1206.41 L53.8856 1208.07 L53.8856 1203.81 L62.1495 1202.15 L66.8254 1202.15 L66.8254 1232.77 L74.4642 1232.77 L74.4642 1236.71 L54.5569 1236.71 L54.5569 1232.77 Z\" fill=\"#000000\" fill-rule=\"evenodd\" fill-opacity=\"1\" /><path clip-path=\"url(#clip490)\" d=\"M93.9086 1205.22 Q90.2975 1205.22 88.4688 1208.79 Q86.6632 1212.33 86.6632 1219.46 Q86.6632 1226.57 88.4688 1230.13 Q90.2975 1233.67 93.9086 1233.67 Q97.5428 1233.67 99.3483 1230.13 Q101.177 1226.57 101.177 1219.46 Q101.177 1212.33 99.3483 1208.79 Q97.5428 1205.22 93.9086 1205.22 M93.9086 1201.52 Q99.7187 1201.52 102.774 1206.13 Q105.853 1210.71 105.853 1219.46 Q105.853 1228.19 102.774 1232.79 Q99.7187 1237.38 93.9086 1237.38 Q88.0984 1237.38 85.0197 1232.79 Q81.9642 1228.19 81.9642 1219.46 Q81.9642 1210.71 85.0197 1206.13 Q88.0984 1201.52 93.9086 1201.52 Z\" fill=\"#000000\" fill-rule=\"evenodd\" fill-opacity=\"1\" /><path clip-path=\"url(#clip490)\" d=\"M57.7745 1006.48 L74.0939 1006.48 L74.0939 1010.42 L52.1495 1010.42 L52.1495 1006.48 Q54.8115 1003.73 59.3949 999.097 Q64.0013 994.444 65.1819 993.101 Q67.4272 990.578 68.3068 988.842 Q69.2096 987.083 69.2096 985.393 Q69.2096 982.638 67.2652 980.902 Q65.3439 979.166 62.2421 979.166 Q60.043 979.166 57.5893 979.93 Q55.1588 980.694 52.381 982.245 L52.381 977.523 Q55.2051 976.388 57.6588 975.81 Q60.1124 975.231 62.1495 975.231 Q67.5198 975.231 70.7142 977.916 Q73.9087 980.601 73.9087 985.092 Q73.9087 987.222 73.0985 989.143 Q72.3115 991.041 70.205 993.634 Q69.6263 994.305 66.5245 997.522 Q63.4226 1000.72 57.7745 1006.48 Z\" fill=\"#000000\" fill-rule=\"evenodd\" fill-opacity=\"1\" /><path clip-path=\"url(#clip490)\" d=\"M93.9086 978.935 Q90.2975 978.935 88.4688 982.499 Q86.6632 986.041 86.6632 993.171 Q86.6632 1000.28 88.4688 1003.84 Q90.2975 1007.38 93.9086 1007.38 Q97.5428 1007.38 99.3483 1003.84 Q101.177 1000.28 101.177 993.171 Q101.177 986.041 99.3483 982.499 Q97.5428 978.935 93.9086 978.935 M93.9086 975.231 Q99.7187 975.231 102.774 979.837 Q105.853 984.421 105.853 993.171 Q105.853 1001.9 102.774 1006.5 Q99.7187 1011.09 93.9086 1011.09 Q88.0984 1011.09 85.0197 1006.5 Q81.9642 1001.9 81.9642 993.171 Q81.9642 984.421 85.0197 979.837 Q88.0984 975.231 93.9086 975.231 Z\" fill=\"#000000\" fill-rule=\"evenodd\" fill-opacity=\"1\" /><path clip-path=\"url(#clip490)\" d=\"M67.9133 765.492 Q71.2698 766.209 73.1448 768.478 Q75.0429 770.746 75.0429 774.08 Q75.0429 779.195 71.5244 781.996 Q68.0059 784.797 61.5245 784.797 Q59.3486 784.797 57.0338 784.357 Q54.7421 783.941 52.2884 783.084 L52.2884 778.57 Q54.2328 779.705 56.5477 780.283 Q58.8625 780.862 61.3856 780.862 Q65.7837 780.862 68.0754 779.126 Q70.3902 777.39 70.3902 774.08 Q70.3902 771.024 68.2374 769.311 Q66.1078 767.575 62.2884 767.575 L58.2606 767.575 L58.2606 763.733 L62.4735 763.733 Q65.9226 763.733 67.7513 762.367 Q69.58 760.978 69.58 758.385 Q69.58 755.723 67.6819 754.311 Q65.8069 752.876 62.2884 752.876 Q60.3671 752.876 58.168 753.293 Q55.969 753.709 53.3301 754.589 L53.3301 750.422 Q55.9921 749.682 58.3069 749.311 Q60.6449 748.941 62.705 748.941 Q68.0291 748.941 71.1309 751.372 Q74.2327 753.779 74.2327 757.899 Q74.2327 760.77 72.5892 762.76 Q70.9457 764.728 67.9133 765.492 Z\" fill=\"#000000\" fill-rule=\"evenodd\" fill-opacity=\"1\" /><path clip-path=\"url(#clip490)\" d=\"M93.9086 752.645 Q90.2975 752.645 88.4688 756.209 Q86.6632 759.751 86.6632 766.881 Q86.6632 773.987 88.4688 777.552 Q90.2975 781.094 93.9086 781.094 Q97.5428 781.094 99.3483 777.552 Q101.177 773.987 101.177 766.881 Q101.177 759.751 99.3483 756.209 Q97.5428 752.645 93.9086 752.645 M93.9086 748.941 Q99.7187 748.941 102.774 753.547 Q105.853 758.131 105.853 766.881 Q105.853 775.608 102.774 780.214 Q99.7187 784.797 93.9086 784.797 Q88.0984 784.797 85.0197 780.214 Q81.9642 775.608 81.9642 766.881 Q81.9642 758.131 85.0197 753.547 Q88.0984 748.941 93.9086 748.941 Z\" fill=\"#000000\" fill-rule=\"evenodd\" fill-opacity=\"1\" /><path clip-path=\"url(#clip490)\" d=\"M66.5939 527.35 L54.7884 545.799 L66.5939 545.799 L66.5939 527.35 M65.367 523.276 L71.2466 523.276 L71.2466 545.799 L76.1772 545.799 L76.1772 549.688 L71.2466 549.688 L71.2466 557.836 L66.5939 557.836 L66.5939 549.688 L50.9921 549.688 L50.9921 545.174 L65.367 523.276 Z\" fill=\"#000000\" fill-rule=\"evenodd\" fill-opacity=\"1\" /><path clip-path=\"url(#clip490)\" d=\"M93.9086 526.355 Q90.2975 526.355 88.4688 529.92 Q86.6632 533.461 86.6632 540.591 Q86.6632 547.697 88.4688 551.262 Q90.2975 554.804 93.9086 554.804 Q97.5428 554.804 99.3483 551.262 Q101.177 547.697 101.177 540.591 Q101.177 533.461 99.3483 529.92 Q97.5428 526.355 93.9086 526.355 M93.9086 522.651 Q99.7187 522.651 102.774 527.258 Q105.853 531.841 105.853 540.591 Q105.853 549.318 102.774 553.924 Q99.7187 558.507 93.9086 558.507 Q88.0984 558.507 85.0197 553.924 Q81.9642 549.318 81.9642 540.591 Q81.9642 531.841 85.0197 527.258 Q88.0984 522.651 93.9086 522.651 Z\" fill=\"#000000\" fill-rule=\"evenodd\" fill-opacity=\"1\" /><path clip-path=\"url(#clip490)\" d=\"M53.793 296.986 L72.1494 296.986 L72.1494 300.921 L58.0754 300.921 L58.0754 309.394 Q59.0939 309.046 60.1124 308.884 Q61.131 308.699 62.1495 308.699 Q67.9365 308.699 71.3161 311.87 Q74.6957 315.042 74.6957 320.458 Q74.6957 326.037 71.2235 329.139 Q67.7513 332.217 61.4319 332.217 Q59.256 332.217 56.9875 331.847 Q54.7421 331.477 52.3347 330.736 L52.3347 326.037 Q54.418 327.171 56.6402 327.727 Q58.8625 328.282 61.3393 328.282 Q65.3439 328.282 67.6819 326.176 Q70.0198 324.069 70.0198 320.458 Q70.0198 316.847 67.6819 314.741 Q65.3439 312.634 61.3393 312.634 Q59.4643 312.634 57.5893 313.051 Q55.7375 313.468 53.793 314.347 L53.793 296.986 Z\" fill=\"#000000\" fill-rule=\"evenodd\" fill-opacity=\"1\" /><path clip-path=\"url(#clip490)\" d=\"M93.9086 300.065 Q90.2975 300.065 88.4688 303.63 Q86.6632 307.171 86.6632 314.301 Q86.6632 321.407 88.4688 324.972 Q90.2975 328.514 93.9086 328.514 Q97.5428 328.514 99.3483 324.972 Q101.177 321.407 101.177 314.301 Q101.177 307.171 99.3483 303.63 Q97.5428 300.065 93.9086 300.065 M93.9086 296.361 Q99.7187 296.361 102.774 300.968 Q105.853 305.551 105.853 314.301 Q105.853 323.028 102.774 327.634 Q99.7187 332.217 93.9086 332.217 Q88.0984 332.217 85.0197 327.634 Q81.9642 323.028 81.9642 314.301 Q81.9642 305.551 85.0197 300.968 Q88.0984 296.361 93.9086 296.361 Z\" fill=\"#000000\" fill-rule=\"evenodd\" fill-opacity=\"1\" /><path clip-path=\"url(#clip490)\" d=\"M64.3254 86.1129 Q61.1773 86.1129 59.3254 88.2656 Q57.4967 90.4184 57.4967 94.1684 Q57.4967 97.8952 59.3254 100.071 Q61.1773 102.224 64.3254 102.224 Q67.4735 102.224 69.3022 100.071 Q71.1541 97.8952 71.1541 94.1684 Q71.1541 90.4184 69.3022 88.2656 Q67.4735 86.1129 64.3254 86.1129 M73.6077 71.4602 L73.6077 75.7194 Q71.8485 74.8861 70.0429 74.4463 Q68.2606 74.0064 66.5013 74.0064 Q61.8717 74.0064 59.418 77.1314 Q56.9875 80.2564 56.6402 86.5758 Q58.006 84.5619 60.0662 83.4971 Q62.1263 82.4092 64.6032 82.4092 Q69.8115 82.4092 72.8207 85.5805 Q75.8531 88.7286 75.8531 94.1684 Q75.8531 99.4924 72.705 102.71 Q69.5568 105.928 64.3254 105.928 Q58.33 105.928 55.1588 101.344 Q51.9875 96.7378 51.9875 88.011 Q51.9875 79.8166 55.8764 74.9555 Q59.7652 70.0713 66.3161 70.0713 Q68.0754 70.0713 69.8578 70.4185 Q71.6633 70.7657 73.6077 71.4602 Z\" fill=\"#000000\" fill-rule=\"evenodd\" fill-opacity=\"1\" /><path clip-path=\"url(#clip490)\" d=\"M93.9086 73.775 Q90.2975 73.775 88.4688 77.3398 Q86.6632 80.8814 86.6632 88.011 Q86.6632 95.1174 88.4688 98.6822 Q90.2975 102.224 93.9086 102.224 Q97.5428 102.224 99.3483 98.6822 Q101.177 95.1174 101.177 88.011 Q101.177 80.8814 99.3483 77.3398 Q97.5428 73.775 93.9086 73.775 M93.9086 70.0713 Q99.7187 70.0713 102.774 74.6777 Q105.853 79.261 105.853 88.011 Q105.853 96.7378 102.774 101.344 Q99.7187 105.928 93.9086 105.928 Q88.0984 105.928 85.0197 101.344 Q81.9642 96.7378 81.9642 88.011 Q81.9642 79.261 85.0197 74.6777 Q88.0984 70.0713 93.9086 70.0713 Z\" fill=\"#000000\" fill-rule=\"evenodd\" fill-opacity=\"1\" /><polyline clip-path=\"url(#clip492)\" style=\"stroke:#009af9; stroke-linecap:butt; stroke-linejoin:round; stroke-width:4; stroke-opacity:1; fill:none\" points=\"\n  204.426,698.959 213.116,698.959 221.807,698.959 230.498,698.959 239.188,698.959 247.879,698.959 256.57,1423.09 265.26,1377.83 273.951,1434.4 282.642,1440.06 \n  291.332,1434.4 300.023,1389.14 308.714,1434.4 317.404,1423.09 326.095,1389.14 334.786,1423.09 343.476,1389.14 352.167,1428.74 360.857,1440.06 369.548,1434.4 \n  378.239,1366.51 386.929,1443.45 395.62,1423.09 404.311,1377.83 413.001,1389.14 421.692,1440.06 430.383,1406.11 439.073,1417.43 447.764,1434.4 456.455,1400.46 \n  465.145,1394.8 473.836,1428.74 482.527,1389.14 491.217,1377.83 499.908,1400.46 508.599,1423.09 517.289,1400.46 525.98,1406.11 534.671,1406.11 543.361,1423.09 \n  552.052,1400.46 560.743,1434.4 569.433,1434.4 578.124,1428.74 586.815,1441.19 595.505,1443.45 604.196,1443.45 612.887,1417.43 621.577,1443.45 630.268,1423.09 \n  638.958,1440.06 647.649,1440.06 656.34,1440.06 665.03,1434.4 673.721,1434.4 682.412,1400.46 691.102,1423.09 699.793,1411.77 708.484,1423.09 717.174,1434.4 \n  725.865,1423.09 734.556,1406.11 743.246,1417.43 751.937,1434.4 760.628,1440.06 769.318,1423.09 778.009,1423.09 786.7,1434.4 795.39,1411.77 804.081,1434.4 \n  812.772,1411.77 821.462,1411.77 830.153,1411.77 838.844,1389.14 847.534,1377.83 856.225,1400.46 864.916,1423.09 873.606,1400.46 882.297,1400.46 890.988,1377.83 \n  899.678,1377.83 908.369,1400.46 917.059,1389.14 925.75,1400.46 934.441,1436.66 943.131,1432.14 951.822,1428.74 960.513,1400.46 969.203,1423.09 977.894,1434.4 \n  986.585,1434.4 995.275,1434.4 1003.97,1423.09 1012.66,1423.09 1021.35,1440.06 1030.04,1428.74 1038.73,1406.11 1047.42,1377.83 1056.11,1411.77 1064.8,1400.46 \n  1073.49,1389.14 1082.18,1400.46 1090.87,1414.04 1099.56,1434.4 1108.25,1411.77 1116.94,1377.83 1125.64,1355.2 1134.33,1332.57 1143.02,1423.09 1151.71,1332.57 \n  1160.4,1400.46 1169.09,1423.09 1177.78,1411.77 1186.47,1400.46 1195.16,1411.77 1203.85,1355.2 1212.54,1355.2 1221.23,1377.83 1229.92,1400.46 1238.61,1400.46 \n  1247.3,1400.46 1256,1400.46 1264.69,1400.46 1273.38,1423.09 1282.07,1423.09 1290.76,1377.83 1299.45,1411.77 1308.14,1428.74 1316.83,1411.77 1325.52,1394.8 \n  1334.21,1440.06 1342.9,1406.11 1351.59,1360.86 1360.28,1417.43 1368.97,1355.2 1377.66,1423.09 1386.35,1423.09 1395.05,1440.06 1403.74,1423.09 1412.43,1400.46 \n  1421.12,1377.83 1429.81,1400.46 1438.5,1423.09 1447.19,1389.14 1455.88,1355.2 1464.57,1355.2 1473.26,1355.2 1481.95,1400.46 1490.64,1423.09 1499.33,1400.46 \n  1508.02,1411.77 1516.71,1440.06 1525.41,1377.83 1534.1,1389.14 1542.79,1423.09 1551.48,1417.43 1560.17,1423.09 1568.86,1400.46 1577.55,1423.09 1586.24,1411.77 \n  1594.93,1423.09 1603.62,1434.4 1612.31,1377.83 1621,1400.46 1629.69,1423.09 1638.38,1445.72 1647.07,1389.14 1655.77,1355.2 1664.46,1377.83 1673.15,1400.46 \n  1681.84,1434.4 1690.53,1423.09 1699.22,1411.77 1707.91,1423.09 1716.6,1423.09 1725.29,1434.4 1733.98,1435.53 1742.67,1411.77 1751.36,1434.4 1760.05,1440.06 \n  1768.74,1423.09 1777.43,1355.2 1786.13,1411.77 1794.82,1423.09 1803.51,1400.46 1812.2,1366.51 1820.89,1423.09 1829.58,1423.09 1838.27,1400.46 1846.96,1377.83 \n  1855.65,1400.46 1864.34,1389.14 1873.03,1423.09 1881.72,1400.46 1890.41,1400.46 1899.1,1423.09 1907.79,1412.9 1916.48,1423.09 1925.18,1434.4 1933.87,1400.46 \n  1942.56,1400.46 1951.25,1400.46 1959.94,1423.09 1968.63,1400.46 1977.32,1355.2 1986.01,1377.83 1994.7,1377.83 2003.39,1377.83 2012.08,1377.83 2020.77,1377.83 \n  2029.46,1411.77 2038.15,87.9763 2046.84,1423.09 2055.54,993.136 2064.23,1434.4 2072.92,1411.77 2081.61,1434.4 2090.3,1423.09 2098.99,1423.09 2107.68,1400.46 \n  2116.37,1377.83 2125.06,1389.14 2133.75,1377.83 2142.44,1377.83 2151.13,1434.4 2159.82,1400.46 2168.51,1377.83 2177.2,1400.46 2185.9,1423.09 2194.59,1423.09 \n  2203.28,1423.09 2211.97,1445.72 2220.66,789.475 2229.35,336.895 2238.04,1423.09 2246.73,1423.09 2255.42,1309.94 2264.11,1355.2 2272.8,993.136 2281.49,766.846 \n  2290.18,1106.28 \n  \"/>\n<path clip-path=\"url(#clip490)\" d=\"\nM1954.84 198.898 L2279.06 198.898 L2279.06 95.2176 L1954.84 95.2176  Z\n  \" fill=\"#ffffff\" fill-rule=\"evenodd\" fill-opacity=\"1\"/>\n<polyline clip-path=\"url(#clip490)\" style=\"stroke:#000000; stroke-linecap:butt; stroke-linejoin:round; stroke-width:4; stroke-opacity:1; fill:none\" points=\"\n  1954.84,198.898 2279.06,198.898 2279.06,95.2176 1954.84,95.2176 1954.84,198.898 \n  \"/>\n<polyline clip-path=\"url(#clip490)\" style=\"stroke:#009af9; stroke-linecap:butt; stroke-linejoin:round; stroke-width:4; stroke-opacity:1; fill:none\" points=\"\n  1979.4,147.058 2126.8,147.058 \n  \"/>\n<path clip-path=\"url(#clip490)\" d=\"M2151.36 128.319 L2155.62 128.319 L2155.62 164.338 L2151.36 164.338 L2151.36 128.319 Z\" fill=\"#000000\" fill-rule=\"evenodd\" fill-opacity=\"1\" /><path clip-path=\"url(#clip490)\" d=\"M2164.53 138.412 L2168.79 138.412 L2168.79 164.338 L2164.53 164.338 L2164.53 138.412 M2164.53 128.319 L2168.79 128.319 L2168.79 133.713 L2164.53 133.713 L2164.53 128.319 Z\" fill=\"#000000\" fill-rule=\"evenodd\" fill-opacity=\"1\" /><path clip-path=\"url(#clip490)\" d=\"M2199.26 148.689 L2199.26 164.338 L2195 164.338 L2195 148.828 Q2195 145.148 2193.56 143.319 Q2192.13 141.49 2189.26 141.49 Q2185.81 141.49 2183.82 143.69 Q2181.83 145.889 2181.83 149.685 L2181.83 164.338 L2177.54 164.338 L2177.54 138.412 L2181.83 138.412 L2181.83 142.44 Q2183.35 140.102 2185.41 138.944 Q2187.5 137.787 2190.21 137.787 Q2194.67 137.787 2196.97 140.565 Q2199.26 143.319 2199.26 148.689 Z\" fill=\"#000000\" fill-rule=\"evenodd\" fill-opacity=\"1\" /><path clip-path=\"url(#clip490)\" d=\"M2229.93 150.31 L2229.93 152.393 L2210.34 152.393 Q2210.62 156.791 2212.98 159.106 Q2215.37 161.398 2219.6 161.398 Q2222.06 161.398 2224.35 160.796 Q2226.66 160.194 2228.93 158.99 L2228.93 163.018 Q2226.64 163.99 2224.23 164.5 Q2221.83 165.009 2219.35 165.009 Q2213.15 165.009 2209.51 161.398 Q2205.9 157.787 2205.9 151.629 Q2205.9 145.264 2209.33 141.537 Q2212.78 137.787 2218.61 137.787 Q2223.84 137.787 2226.87 141.166 Q2229.93 144.523 2229.93 150.31 M2225.67 149.06 Q2225.62 145.565 2223.7 143.481 Q2221.8 141.398 2218.65 141.398 Q2215.09 141.398 2212.94 143.412 Q2210.81 145.426 2210.48 149.083 L2225.67 149.06 Z\" fill=\"#000000\" fill-rule=\"evenodd\" fill-opacity=\"1\" /></svg>\n"
     },
     "execution_count": 54,
     "metadata": {},
     "output_type": "execute_result"
    }
   ],
   "source": [
    "df = CSV.read(\"testfile.csv\", DataFrame)\n",
    "my_arr = Array(df.hours)\n",
    "\n",
    "plot(my_arr, label=\"line\") "
   ]
  },
  {
   "cell_type": "code",
   "execution_count": 57,
   "id": "12f996c0",
   "metadata": {},
   "outputs": [
    {
     "data": {
      "text/plain": [
       "3-element Vector{Float64}:\n",
       " 1.0\n",
       " 0.5\n",
       " 0.5"
      ]
     },
     "execution_count": 57,
     "metadata": {},
     "output_type": "execute_result"
    }
   ],
   "source": [
    "today = [1, .5]\n",
    "a = [2]\n",
    "#append!((today, 1.5)int)\n",
    "today = vcat(today, .5)\n",
    "today"
   ]
  },
  {
   "cell_type": "code",
   "execution_count": 7,
   "id": "f8ee3e23",
   "metadata": {},
   "outputs": [
    {
     "ename": "LoadError",
     "evalue": "UndefVarError: hours_so_far not defined",
     "output_type": "error",
     "traceback": [
      "UndefVarError: hours_so_far not defined",
      "",
      "Stacktrace:",
      " [1] top-level scope",
      "   @ In[7]:9",
      " [2] eval",
      "   @ .\\boot.jl:373 [inlined]",
      " [3] include_string(mapexpr::typeof(REPL.softscope), mod::Module, code::String, filename::String)",
      "   @ Base .\\loading.jl:1196"
     ]
    }
   ],
   "source": [
    "# hours today\n",
    "today = [1,1]\n",
    "# array for june 2022\n",
    "june_2022 = [2,2]\n",
    "# add new hours\n",
    "#push!(june_2022,1)\n",
    "#pop!(today)\n",
    "\n",
    "sum(june_2022) + hours_so_far"
   ]
  },
  {
   "cell_type": "code",
   "execution_count": 50,
   "id": "9a55db05",
   "metadata": {},
   "outputs": [
    {
     "ename": "LoadError",
     "evalue": "UndefVarError: type not defined",
     "output_type": "error",
     "traceback": [
      "UndefVarError: type not defined",
      "",
      "Stacktrace:",
      " [1] top-level scope",
      "   @ In[50]:1",
      " [2] eval",
      "   @ .\\boot.jl:373 [inlined]",
      " [3] include_string(mapexpr::typeof(REPL.softscope), mod::Module, code::String, filename::String)",
      "   @ Base .\\loading.jl:1196"
     ]
    }
   ],
   "source": [
    "((june_2022)type)"
   ]
  },
  {
   "cell_type": "code",
   "execution_count": 4,
   "id": "fa205518",
   "metadata": {},
   "outputs": [
    {
     "ename": "LoadError",
     "evalue": "MethodError: no method matching +(::Int64, ::Vector{Int64})\nFor element-wise addition, use broadcasting with dot syntax: scalar .+ array\n\u001b[0mClosest candidates are:\n\u001b[0m  +(::Any, ::Any, \u001b[91m::Any\u001b[39m, \u001b[91m::Any...\u001b[39m) at C:\\Users\\lizba\\AppData\\Local\\Programs\\Julia-1.7.2\\share\\julia\\base\\operators.jl:655\n\u001b[0m  +(::T, \u001b[91m::T\u001b[39m) where T<:Union{Int128, Int16, Int32, Int64, Int8, UInt128, UInt16, UInt32, UInt64, UInt8} at C:\\Users\\lizba\\AppData\\Local\\Programs\\Julia-1.7.2\\share\\julia\\base\\int.jl:87\n\u001b[0m  +(\u001b[91m::SparseArrays.AbstractSparseMatrixCSC\u001b[39m, ::Array) at C:\\Users\\lizba\\AppData\\Local\\Programs\\Julia-1.7.2\\share\\julia\\stdlib\\v1.7\\SparseArrays\\src\\sparsematrix.jl:1774\n\u001b[0m  ...",
     "output_type": "error",
     "traceback": [
      "MethodError: no method matching +(::Int64, ::Vector{Int64})\nFor element-wise addition, use broadcasting with dot syntax: scalar .+ array\n\u001b[0mClosest candidates are:\n\u001b[0m  +(::Any, ::Any, \u001b[91m::Any\u001b[39m, \u001b[91m::Any...\u001b[39m) at C:\\Users\\lizba\\AppData\\Local\\Programs\\Julia-1.7.2\\share\\julia\\base\\operators.jl:655\n\u001b[0m  +(::T, \u001b[91m::T\u001b[39m) where T<:Union{Int128, Int16, Int32, Int64, Int8, UInt128, UInt16, UInt32, UInt64, UInt8} at C:\\Users\\lizba\\AppData\\Local\\Programs\\Julia-1.7.2\\share\\julia\\base\\int.jl:87\n\u001b[0m  +(\u001b[91m::SparseArrays.AbstractSparseMatrixCSC\u001b[39m, ::Array) at C:\\Users\\lizba\\AppData\\Local\\Programs\\Julia-1.7.2\\share\\julia\\stdlib\\v1.7\\SparseArrays\\src\\sparsematrix.jl:1774\n\u001b[0m  ...",
      "",
      "Stacktrace:",
      " [1] add_hours()",
      "   @ Main .\\In[4]:4",
      " [2] top-level scope",
      "   @ In[4]:7",
      " [3] eval",
      "   @ .\\boot.jl:373 [inlined]",
      " [4] include_string(mapexpr::typeof(REPL.softscope), mod::Module, code::String, filename::String)",
      "   @ Base .\\loading.jl:1196"
     ]
    }
   ],
   "source": [
    "function add_hours()\n",
    "    hours_so_far = 800\n",
    "    june_2022\n",
    "    tots = hours_so_far + june_2022\n",
    "    println(\"$tots\")\n",
    "end\n",
    "add_hours()\n"
   ]
  },
  {
   "cell_type": "code",
   "execution_count": 13,
   "id": "e28bee33",
   "metadata": {},
   "outputs": [
    {
     "data": {
      "text/plain": [
       "1-element Vector{Float64}:\n",
       " 0.75"
      ]
     },
     "execution_count": 13,
     "metadata": {},
     "output_type": "execute_result"
    }
   ],
   "source": [
    "june_2022 = [.75]"
   ]
  },
  {
   "cell_type": "code",
   "execution_count": 14,
   "id": "f74a40d4",
   "metadata": {},
   "outputs": [
    {
     "data": {
      "text/plain": [
       "0.75"
      ]
     },
     "execution_count": 14,
     "metadata": {},
     "output_type": "execute_result"
    }
   ],
   "source": [
    "sum(june_2022)"
   ]
  },
  {
   "cell_type": "code",
   "execution_count": 17,
   "id": "3c51b0a1",
   "metadata": {},
   "outputs": [
    {
     "ename": "LoadError",
     "evalue": "MethodError: \u001b[0mCannot `convert` an object of type \u001b[92mVector{Int64}\u001b[39m\u001b[0m to an object of type \u001b[91mFloat64\u001b[39m\n\u001b[0mClosest candidates are:\n\u001b[0m  convert(::Type{T}, \u001b[91m::Base.TwicePrecision\u001b[39m) where T<:Number at C:\\Users\\lizba\\AppData\\Local\\Programs\\Julia-1.7.2\\share\\julia\\base\\twiceprecision.jl:262\n\u001b[0m  convert(::Type{T}, \u001b[91m::AbstractChar\u001b[39m) where T<:Number at C:\\Users\\lizba\\AppData\\Local\\Programs\\Julia-1.7.2\\share\\julia\\base\\char.jl:185\n\u001b[0m  convert(::Type{T}, \u001b[91m::CartesianIndex{1}\u001b[39m) where T<:Number at C:\\Users\\lizba\\AppData\\Local\\Programs\\Julia-1.7.2\\share\\julia\\base\\multidimensional.jl:136\n\u001b[0m  ...",
     "output_type": "error",
     "traceback": [
      "MethodError: \u001b[0mCannot `convert` an object of type \u001b[92mVector{Int64}\u001b[39m\u001b[0m to an object of type \u001b[91mFloat64\u001b[39m\n\u001b[0mClosest candidates are:\n\u001b[0m  convert(::Type{T}, \u001b[91m::Base.TwicePrecision\u001b[39m) where T<:Number at C:\\Users\\lizba\\AppData\\Local\\Programs\\Julia-1.7.2\\share\\julia\\base\\twiceprecision.jl:262\n\u001b[0m  convert(::Type{T}, \u001b[91m::AbstractChar\u001b[39m) where T<:Number at C:\\Users\\lizba\\AppData\\Local\\Programs\\Julia-1.7.2\\share\\julia\\base\\char.jl:185\n\u001b[0m  convert(::Type{T}, \u001b[91m::CartesianIndex{1}\u001b[39m) where T<:Number at C:\\Users\\lizba\\AppData\\Local\\Programs\\Julia-1.7.2\\share\\julia\\base\\multidimensional.jl:136\n\u001b[0m  ...",
      "",
      "Stacktrace:",
      " [1] push!(a::Vector{Float64}, item::Vector{Int64})",
      "   @ Base .\\array.jl:994",
      " [2] top-level scope",
      "   @ In[17]:1",
      " [3] eval",
      "   @ .\\boot.jl:373 [inlined]",
      " [4] include_string(mapexpr::typeof(REPL.softscope), mod::Module, code::String, filename::String)",
      "   @ Base .\\loading.jl:1196"
     ]
    }
   ],
   "source": [
    "push!(june_2022, today)"
   ]
  },
  {
   "cell_type": "code",
   "execution_count": 26,
   "id": "9d1899d9",
   "metadata": {},
   "outputs": [
    {
     "data": {
      "text/plain": [
       "1.7397260273972603"
      ]
     },
     "execution_count": 26,
     "metadata": {},
     "output_type": "execute_result"
    }
   ],
   "source": [
    "using DataFrames\n",
    "using CSV\n",
    "df = CSV.read(\"testfile.csv\", DataFrame, dateformat=\"dd-mm-yyyy\")\n",
    "my_dict = Dict(Pair.(df.date_peroid, df.hours))\n",
    "\n",
    "635/365"
   ]
  },
  {
   "cell_type": "code",
   "execution_count": 108,
   "id": "b50aa741",
   "metadata": {},
   "outputs": [
    {
     "data": {
      "text/plain": [
       "635 days"
      ]
     },
     "execution_count": 108,
     "metadata": {},
     "output_type": "execute_result"
    }
   ],
   "source": [
    "start_date = Date(2020,9,1)\n",
    "end_date = Date(2022, 5, 29)\n",
    "span = end_date - start_date "
   ]
  },
  {
   "cell_type": "code",
   "execution_count": 109,
   "id": "d1601b60",
   "metadata": {},
   "outputs": [
    {
     "name": "stdout",
     "output_type": "stream",
     "text": [
      "3.142\n"
     ]
    }
   ],
   "source": [
    "println(round(pi; digits = 3))"
   ]
  },
  {
   "cell_type": "code",
   "execution_count": 60,
   "id": "a337b25f",
   "metadata": {},
   "outputs": [
    {
     "name": "stdout",
     "output_type": "stream",
     "text": [
      "2.0\n"
     ]
    }
   ],
   "source": [
    " println(round(2.3))"
   ]
  },
  {
   "cell_type": "code",
   "execution_count": 110,
   "id": "c41b465f",
   "metadata": {},
   "outputs": [
    {
     "data": {
      "text/plain": [
       "796.0"
      ]
     },
     "execution_count": 110,
     "metadata": {},
     "output_type": "execute_result"
    }
   ],
   "source": [
    "\n",
    "tot_hours = sum(df.hours)\n",
    "tot_hours = (round(tot_hours))\n",
    "my_string = tot_hours"
   ]
  },
  {
   "cell_type": "code",
   "execution_count": 111,
   "id": "292f53c8",
   "metadata": {},
   "outputs": [
    {
     "name": "stdout",
     "output_type": "stream",
     "text": [
      "In the last 635 days you have wrote code for 796.0 hours!\n"
     ]
    }
   ],
   "source": [
    "println(\"In the last $span you have wrote code for $tot_hours hours!\")"
   ]
  },
  {
   "cell_type": "code",
   "execution_count": 106,
   "id": "bf9d65cf",
   "metadata": {},
   "outputs": [
    {
     "data": {
      "text/plain": [
       "1.7561643835616438"
      ]
     },
     "execution_count": 106,
     "metadata": {},
     "output_type": "execute_result"
    }
   ],
   "source": [
    "start_year = Dates.Date(1985, 1, 1)\n",
    "end_year = Dates.Date(1989, 12, 31)\n",
    "\n",
    "dad_span = end_year - start_year\n",
    "#4000 /\n",
    "(4000 - 795) / Dates.value(dad_span) "
   ]
  },
  {
   "cell_type": "code",
   "execution_count": null,
   "id": "32aaf702",
   "metadata": {},
   "outputs": [],
   "source": [
    "tot_hours = sum(df.hours)"
   ]
  },
  {
   "cell_type": "code",
   "execution_count": 80,
   "id": "30cbd7c8",
   "metadata": {},
   "outputs": [
    {
     "data": {
      "text/plain": [
       "\"The first significant payout before any job offers was about three years \\n after I started and after writing code for three or four thousand hours\\n with no financial return. Not a very safe career path but it worked out\""
      ]
     },
     "execution_count": 80,
     "metadata": {},
     "output_type": "execute_result"
    }
   ],
   "source": [
    "dad_string = \"The first significant payout before any job offers was about three years \n",
    " after I started and after writing code for three or four thousand hours\n",
    " with no financial return. Not a very safe career path but it worked out\"\n",
    " \n",
    " #Larry Jones \n",
    " #2015"
   ]
  },
  {
   "cell_type": "code",
   "execution_count": null,
   "id": "aee9db22",
   "metadata": {},
   "outputs": [],
   "source": []
  }
 ],
 "metadata": {
  "kernelspec": {
   "display_name": "Julia 1.7.2",
   "language": "julia",
   "name": "julia-1.7"
  },
  "language_info": {
   "file_extension": ".jl",
   "mimetype": "application/julia",
   "name": "julia",
   "version": "1.7.2"
  }
 },
 "nbformat": 4,
 "nbformat_minor": 5
}

{
 "cells": [
  {
   "cell_type": "code",
   "execution_count": 73,
   "id": "a8cdedef",
   "metadata": {},
   "outputs": [
    {
     "data": {
      "text/plain": [
       "Dict{String15, Float64} with 241 entries:\n",
       "  \"08/26/2021\" => 4.0\n",
       "  \"12/17/2020\" => 1.0\n",
       "  \"2/24/2021\"  => 0.5\n",
       "  \"06/09/2021\" => 0.25\n",
       "  \"07/20/2021\" => 1.5\n",
       "  \"12/20/2020\" => 0.25\n",
       "  \"5/13/2021\"  => 1.0\n",
       "  \"08/31/2021\" => 2.0\n",
       "  \"02/07/2021\" => 1.5\n",
       "  \"06/19/2021\" => 1.0\n",
       "  \"3/12/2021\"  => 2.0\n",
       "  \"07/09/2021\" => 4.0\n",
       "  \"01/04/2021\" => 1.75\n",
       "  \"10/09/2021\" => 2.0\n",
       "  \"5/16/2021\"  => 1.0\n",
       "  \"06/17/2021\" => 1.25\n",
       "  \"08/06/2021\" => 2.0\n",
       "  \"2/25/2021\"  => 1.5\n",
       "  \"12/4/2021\"  => 60.0\n",
       "  \"3/28/2021\"  => 0.6\n",
       "  \"10/16/2021\" => 1.0\n",
       "  \"01/25/2021\" => 0.25\n",
       "  \"07/08/2021\" => 4.0\n",
       "  \"3/31/2021\"  => 0.75\n",
       "  \"07/26/2021\" => 1.0\n",
       "  ⋮            => ⋮"
      ]
     },
     "execution_count": 73,
     "metadata": {},
     "output_type": "execute_result"
    }
   ],
   "source": [
    "using DataFrames\n",
    "using CSV\n",
    "df = CSV.read(\"testfile.csv\", DataFrame, dateformat=\"dd-mm-yyyy\")\n",
    "my_dict = Dict(Pair.(df.date_peroid, df.hours))\n",
    "my_dict"
   ]
  },
  {
   "cell_type": "code",
   "execution_count": 108,
   "id": "5f17ae11",
   "metadata": {},
   "outputs": [
    {
     "data": {
      "text/plain": [
       "635 days"
      ]
     },
     "execution_count": 108,
     "metadata": {},
     "output_type": "execute_result"
    }
   ],
   "source": [
    "start_date = Date(2020,9,1)\n",
    "end_date = Date(2022, 5, 29)\n",
    "span = end_date - start_date "
   ]
  },
  {
   "cell_type": "code",
   "execution_count": 109,
   "id": "0d1c92a1",
   "metadata": {},
   "outputs": [
    {
     "name": "stdout",
     "output_type": "stream",
     "text": [
      "3.142\n"
     ]
    }
   ],
   "source": [
    "println(round(pi; digits = 3))"
   ]
  },
  {
   "cell_type": "code",
   "execution_count": 60,
   "id": "0bd1a047",
   "metadata": {},
   "outputs": [
    {
     "name": "stdout",
     "output_type": "stream",
     "text": [
      "2.0\n"
     ]
    }
   ],
   "source": [
    " println(round(2.3))"
   ]
  },
  {
   "cell_type": "code",
   "execution_count": 110,
   "id": "5d7af008",
   "metadata": {},
   "outputs": [
    {
     "data": {
      "text/plain": [
       "796.0"
      ]
     },
     "execution_count": 110,
     "metadata": {},
     "output_type": "execute_result"
    }
   ],
   "source": [
    "tot_hours = sum(df.hours)\n",
    "tot_hours = (round(tot_hours))\n",
    "tot_hours"
   ]
  },
  {
   "cell_type": "code",
   "execution_count": 111,
   "id": "c8844db1",
   "metadata": {},
   "outputs": [
    {
     "name": "stdout",
     "output_type": "stream",
     "text": [
      "In the last 635 days you have wrote code for 796.0 hours!\n"
     ]
    }
   ],
   "source": [
    "println(\"In the last $span you have wrote code for $tot_hours hours!\")"
   ]
  },
  {
   "cell_type": "code",
   "execution_count": 106,
   "id": "18c33d5c",
   "metadata": {},
   "outputs": [
    {
     "data": {
      "text/plain": [
       "1.7561643835616438"
      ]
     },
     "execution_count": 106,
     "metadata": {},
     "output_type": "execute_result"
    }
   ],
   "source": [
    "start_year = Dates.Date(1985, 1, 1)\n",
    "end_year = Dates.Date(1989, 12, 31)\n",
    "\n",
    "dad_span = end_year - start_year\n",
    "#4000 /\n",
    "(4000 - 795) / Dates.value(dad_span) "
   ]
  },
  {
   "cell_type": "code",
   "execution_count": null,
   "id": "9191d100",
   "metadata": {},
   "outputs": [],
   "source": [
    "tot_hours = sum(df.hours)"
   ]
  },
  {
   "cell_type": "code",
   "execution_count": 80,
   "id": "33b4caa1",
   "metadata": {},
   "outputs": [
    {
     "data": {
      "text/plain": [
       "\"The first significant payout before any job offers was about three years \\n after I started and after writing code for three or four thousand hours\\n with no financial return. Not a very safe career path but it worked out\""
      ]
     },
     "execution_count": 80,
     "metadata": {},
     "output_type": "execute_result"
    }
   ],
   "source": [
    "dad_string = \"The first significant payout before any job offers was about three years \n",
    " after I started and after writing code for three or four thousand hours\n",
    " with no financial return. Not a very safe career path but it worked out\"\n",
    " \n",
    " #Larry Jones \n",
    " #2015"
   ]
  },
  {
   "cell_type": "code",
   "execution_count": null,
   "id": "6218f8ba",
   "metadata": {},
   "outputs": [],
   "source": []
  }
 ],
 "metadata": {
  "kernelspec": {
   "display_name": "Julia 1.7.2",
   "language": "julia",
   "name": "julia-1.7"
  },
  "language_info": {
   "file_extension": ".jl",
   "mimetype": "application/julia",
   "name": "julia",
   "version": "1.7.2"
  }
 },
 "nbformat": 4,
 "nbformat_minor": 5
}
